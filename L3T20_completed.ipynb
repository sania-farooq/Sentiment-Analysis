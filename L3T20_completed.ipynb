{
 "cells": [
  {
   "cell_type": "markdown",
   "metadata": {
    "colab_type": "text",
    "id": "eHGm8RQlK46m"
   },
   "source": [
    "# Get and explore dataset"
   ]
  },
  {
   "cell_type": "code",
   "execution_count": 193,
   "metadata": {
    "colab": {},
    "colab_type": "code",
    "id": "-erlYw1jXtgh"
   },
   "outputs": [],
   "source": [
    "# Relevant libraries and packages are imported for manipulation\n",
    "\n",
    "import matplotlib.pyplot as plt\n",
    "from matplotlib import pyplot\n",
    "import numpy as np\n",
    "import re\n",
    "import statistics\n",
    "import tensorflow as tf\n",
    "\n",
    "from keras.models import Sequential\n",
    "from keras.layers import LSTM, Dense, Dropout, Embedding\n",
    "from keras.utils import to_categorical"
   ]
  },
  {
   "cell_type": "code",
   "execution_count": 194,
   "metadata": {
    "colab": {},
    "colab_type": "code",
    "id": "goZIhX8nII4T"
   },
   "outputs": [],
   "source": [
    "# Make results reproducible -random seed is set\n",
    "\n",
    "from numpy.random import seed\n",
    "seed(42)"
   ]
  },
  {
   "cell_type": "code",
   "execution_count": 195,
   "metadata": {
    "colab": {},
    "colab_type": "code",
    "id": "v_fEysQHII4W",
    "tags": []
   },
   "outputs": [],
   "source": [
    "# Datasets are created from the specified files\n",
    "\n",
    "negative_file = \"negative.txt\"\n",
    "positive_file = \"positive.txt\""
   ]
  },
  {
   "cell_type": "code",
   "execution_count": 196,
   "metadata": {
    "colab": {},
    "colab_type": "code",
    "id": "0rWm4yycII4Y",
    "tags": []
   },
   "outputs": [],
   "source": [
    "# Helper functions are defined to pre process the data\n",
    "\n",
    "def filter_words(line):    \n",
    "    line = re.sub(r'[^\\w\\s]','',line.rstrip())\n",
    "    words = line.split(\" \") \n",
    "    words = [i.lower() for i in words if i]      \n",
    "    return \" \".join(words)\n",
    "\n",
    "def load_data(filename):\n",
    "    thefile = open(filename, 'r') \n",
    "    lines = thefile.readlines() \n",
    "\n",
    "    data = []\n",
    "    for l in range(0,len(lines)): \n",
    "        if(lines[l-1].strip() == \"<title>\"): \n",
    "            theline = filter_words(lines[l])\n",
    "            if(len(theline) < 50):\n",
    "                data.append(theline)            \n",
    "            \n",
    "    return data\n",
    "\n",
    "# Helper function to convert categorical data to class label\n",
    "\n",
    "def to_word_label(y):\n",
    "    y = to_class(y)   \n",
    "    return [\"positive\" if i==0 else \"negative\" for i in y]\n",
    "\n",
    "# Helper function to convert class label to numeric label\n",
    "\n",
    "def to_numeric_label(y):\n",
    "  return [0 if i==\"positive\" else 1 for i in y]\n",
    "\n",
    "# Helper function: this function needs to be called before sending arrays to sklearn metrics,\n",
    "# it converts back to class form from categorical form. ie: [1,0] --> 0, [0,1] --> 1\n",
    "\n",
    "def to_class(y):\n",
    "    return np.argmax(y,axis=1) "
   ]
  },
  {
   "cell_type": "code",
   "execution_count": 197,
   "metadata": {
    "colab": {
     "base_uri": "https://localhost:8080/",
     "height": 70
    },
    "colab_type": "code",
    "id": "jjGUiFm9II4b",
    "outputId": "aa5eb89b-85f2-4d61-f33a-b00361b19a41",
    "tags": []
   },
   "outputs": [
    {
     "name": "stdout",
     "output_type": "stream",
     "text": [
      "['one of the best crichton novels', 'the medicine of the future', 'beautiful', 'for lovers of robicheaux', 'a good book', 'to the point and beautifully illustrated', 'at least somebody has got it', 'beautifully written heartwarming story', 'an excellent cookbook full of delicious recipes', 'an outstanding resource']\n",
      "['horrible book horrible', 'shallow selfindulgence', 'horrible book horrible', 'disappointment', 'a disappointing mess', 'save your money there are better books out there', 'thank you but no thanks', 'unendurable', 'the hard way', 'some good info among the political commercial']\n"
     ]
    }
   ],
   "source": [
    "# The first ten entries of each dataset are printed out\n",
    "\n",
    "positive = load_data(positive_file)\n",
    "negative = load_data(negative_file)\n",
    "\n",
    "print(positive[0:10])\n",
    "print(negative[0:10])"
   ]
  },
  {
   "cell_type": "code",
   "execution_count": 198,
   "metadata": {
    "colab": {},
    "colab_type": "code",
    "id": "yrgEYOOCII4d",
    "tags": []
   },
   "outputs": [
    {
     "data": {
      "text/plain": [
       "array([[1., 0.],\n",
       "       [1., 0.],\n",
       "       [1., 0.],\n",
       "       ...,\n",
       "       [0., 1.],\n",
       "       [0., 1.],\n",
       "       [0., 1.]], dtype=float32)"
      ]
     },
     "execution_count": 198,
     "metadata": {},
     "output_type": "execute_result"
    }
   ],
   "source": [
    "# Combines the positive and negative reviews into a single list and create labels\n",
    "\n",
    "data = positive + negative\n",
    "word_labels = [\"positive\"] * len(positive) + [\"negative\"] * len(negative) \n",
    "\n",
    "# Converts labels to numbers in one-hot encoding - [1, 0] (positive) or [0, 1] (negative)\n",
    "\n",
    "labels  = to_categorical(to_numeric_label(word_labels))\n",
    "labels"
   ]
  },
  {
   "cell_type": "code",
   "execution_count": 199,
   "metadata": {
    "colab": {},
    "colab_type": "code",
    "id": "97Uh2uBpII4l",
    "tags": []
   },
   "outputs": [
    {
     "name": "stdout",
     "output_type": "stream",
     "text": [
      "Mean review length:  24.676519799219186\n",
      "Standard deviation of review lengths:  11.28405192884278\n",
      "Number of unique words:  2559\n"
     ]
    },
    {
     "data": {
      "image/png": "[encoded data removed]",
      "text/plain": [
       "<Figure size 640x480 with 1 Axes>"
      ]
     },
     "metadata": {},
     "output_type": "display_data"
    }
   ],
   "source": [
    "\n",
    "# - Calculate and report the mean review size, its standard deviation and create a boxplot.\n",
    "# - Calculate the number of unique words in the dataset\n",
    "# - Perform any other dataset investigation that you feel would be valuable\n",
    "\n",
    "from collections import Counter\n",
    "\n",
    "# The mean review size, its standard deviation are calculated and a boxplot is plotted\n",
    "\n",
    "review_lengths = [len(review) for review in data]\n",
    "mean_review_length = np.mean(review_lengths)\n",
    "std_review_length = np.std(review_lengths)\n",
    "print('Mean review length: ', mean_review_length)\n",
    "print('Standard deviation of review lengths: ', std_review_length)\n",
    "\n",
    "plt.boxplot(review_lengths)\n",
    "\n",
    "# The number of unique words in the dataset is calculated and displayed \n",
    "\n",
    "unique_words = set(' '.join(data).split())\n",
    "num_unique_words = len(unique_words)\n",
    "print('Number of unique words: ', num_unique_words)\n",
    "\n",
    "\n"
   ]
  },
  {
   "cell_type": "code",
   "execution_count": 200,
   "metadata": {},
   "outputs": [
    {
     "data": {
      "image/png": "[encoded data removed]",
      "text/plain": [
       "<Figure size 640x480 with 1 Axes>"
      ]
     },
     "metadata": {},
     "output_type": "display_data"
    }
   ],
   "source": [
    "# The number of positibe vs negative sentiments are plotted\n",
    "\n",
    "label_counts = Counter(word_labels)\n",
    "plt.bar(label_counts.keys(), label_counts.values())\n",
    "plt.title('Distribution of Positive and Negative Reviews')\n",
    "plt.xlabel('Sentiment')\n",
    "plt.ylabel('Count')\n",
    "plt.show()"
   ]
  },
  {
   "cell_type": "code",
   "execution_count": 201,
   "metadata": {
    "colab": {
     "base_uri": "https://localhost:8080/",
     "height": 50
    },
    "colab_type": "code",
    "id": "_XXnArgcII4i",
    "outputId": "020b2ee2-4c2a-4bc0-bb55-e2ae3841fe57",
    "tags": []
   },
   "outputs": [
    {
     "name": "stdout",
     "output_type": "stream",
     "text": [
      "['one of the best crichton novels', 'the medicine of the future', 'beautiful', 'for lovers of robicheaux', 'a good book']\n",
      "[[18, 4, 2, 19], [2, 4, 2], [], [6, 4], [1, 12, 3]]\n"
     ]
    }
   ],
   "source": [
    "# The vocabulary is tokenized\n",
    "\n",
    "from keras.preprocessing.text import Tokenizer\n",
    "\n",
    "tokenizer = Tokenizer(num_words=25)\n",
    "\n",
    "tokenizer.fit_on_texts(data) #create the vocabularry\n",
    "\n",
    "tokenized_data = tokenizer.texts_to_sequences(data) #tokenize the data using the vocabulary\n",
    "\n",
    "vocab_size = len(tokenizer.word_index) + 1 \n",
    "\n",
    "#  Compare a sample of the data before and after tokenization\n",
    "\n",
    "print(data[0:5])\n",
    "print(tokenized_data[0:5])"
   ]
  },
  {
   "cell_type": "markdown",
   "metadata": {
    "colab_type": "text",
    "id": "_vsMmLjdK1Gf"
   },
   "source": [
    "# Pre-processing"
   ]
  },
  {
   "cell_type": "code",
   "execution_count": 202,
   "metadata": {
    "colab": {},
    "colab_type": "code",
    "id": "24DaXd1zII4q",
    "tags": []
   },
   "outputs": [],
   "source": [
    "# Pre-processing\n",
    "# The data is pre processed so that each review is the same length\n",
    "\n",
    "from keras_preprocessing.sequence import pad_sequences\n",
    "\n",
    "max_length = 50 # maximum length of each review\n",
    "\n",
    "padded_data = pad_sequences(tokenized_data, maxlen=max_length, padding='post', truncating='post')\n"
   ]
  },
  {
   "cell_type": "code",
   "execution_count": 203,
   "metadata": {
    "colab": {},
    "colab_type": "code",
    "id": "AFTJcFy6II4s",
    "tags": []
   },
   "outputs": [],
   "source": [
    "# The data is split for further modelling\n",
    "\n",
    "from sklearn.model_selection import train_test_split\n",
    "\n",
    "X_train, X_test, y_train, y_test = train_test_split(tokenized_data, labels, test_size=0.2, shuffle=True)\n",
    "\n",
    "train_data = pad_sequences(X_train, maxlen=max_length, padding='post')\n",
    "test_data = pad_sequences(X_test, maxlen=max_length, padding='post')\n",
    "\n",
    "# import numpy as np\n",
    "\n",
    "# print('X_train shape:', np.array(X_train).shape)\n",
    "# print('X_test shape:', np.array(X_test).shape)\n",
    "# print('y_train shape:', np.array(y_train).shape)\n",
    "# print('y_test shape:', np.array(y_test).shape)\n"
   ]
  },
  {
   "cell_type": "code",
   "execution_count": 204,
   "metadata": {
    "colab": {
     "base_uri": "https://localhost:8080/",
     "height": 128
    },
    "colab_type": "code",
    "id": "lDth1BSzII4u",
    "outputId": "4614049a-7151-4407-9bc8-54604bbe7fdd"
   },
   "outputs": [],
   "source": [
    "# A function is defined to calculate the characteristics of the model\n",
    "\n",
    "from sklearn.metrics import confusion_matrix, precision_score, recall_score, f1_score\n",
    "\n",
    "def assess_model(model, X_test, y_test):      \n",
    "    y_pred = model.predict(X_test)\n",
    "    y_pred_classes = to_class(y_pred)\n",
    "    y_test_classes = to_class(y_test)\n",
    "    \n",
    "    precision = precision_score(y_test_classes, y_pred_classes)\n",
    "    recall = recall_score(y_test_classes, y_pred_classes)\n",
    "    f1 = f1_score(y_test_classes, y_pred_classes)\n",
    "    confusion = confusion_matrix(y_test_classes, y_pred_classes)\n",
    "    \n",
    "    print(\"Confusion Matrix:\\n\", confusion)\n",
    "    print(\"Precision:\", precision)\n",
    "    print(\"Recall:\", recall)\n",
    "    print(\"F1 Score:\", f1)\n"
   ]
  },
  {
   "cell_type": "markdown",
   "metadata": {
    "colab_type": "text",
    "id": "nTqLbbE6MpGt"
   },
   "source": [
    "# Build and tune model"
   ]
  },
  {
   "cell_type": "markdown",
   "metadata": {
    "colab_type": "text",
    "id": "3X70rA4uMXNv"
   },
   "source": [
    "Define network architecture"
   ]
  },
  {
   "cell_type": "code",
   "execution_count": 205,
   "metadata": {
    "colab": {},
    "colab_type": "code",
    "id": "wKoXWKG4II5F"
   },
   "outputs": [],
   "source": [
    "# The input and output dimensions are specified and a model is created\n",
    "\n",
    "input_dim = vocab_size\n",
    "output_dim = 128\n",
    "input_length = max_length\n",
    "\n",
    "model = Sequential()\n",
    "\n",
    "model.add(Embedding(input_dim=input_dim, output_dim=output_dim, input_length=input_length))\n",
    "\n",
    "model.add(LSTM(128, return_sequences=True))\n",
    "model.add(Dropout(0.2))\n",
    "\n",
    "model.add(LSTM(64))\n",
    "model.add(Dropout(0.2))\n",
    "\n",
    "model.add(Dense(2, activation='softmax'))\n"
   ]
  },
  {
   "cell_type": "markdown",
   "metadata": {
    "colab_type": "text",
    "id": "llS0-VKBMbz-"
   },
   "source": [
    "Train model"
   ]
  },
  {
   "cell_type": "code",
   "execution_count": 206,
   "metadata": {
    "colab": {},
    "colab_type": "code",
    "id": "F5IJs0QuMe_I"
   },
   "outputs": [
    {
     "name": "stdout",
     "output_type": "stream",
     "text": [
      "Epoch 1/10\n",
      "36/36 [==============================] - 15s 332ms/step - loss: 0.6951 - accuracy: 0.4987 - val_loss: 0.6933 - val_accuracy: 0.4599\n",
      "Epoch 2/10\n",
      "36/36 [==============================] - 11s 302ms/step - loss: 0.6934 - accuracy: 0.5170 - val_loss: 0.6917 - val_accuracy: 0.5401\n",
      "Epoch 3/10\n",
      "36/36 [==============================] - 10s 289ms/step - loss: 0.6931 - accuracy: 0.5205 - val_loss: 0.6907 - val_accuracy: 0.5401\n",
      "Epoch 4/10\n",
      "36/36 [==============================] - 10s 286ms/step - loss: 0.6931 - accuracy: 0.5196 - val_loss: 0.6917 - val_accuracy: 0.5401\n",
      "Epoch 5/10\n",
      "36/36 [==============================] - 10s 285ms/step - loss: 0.6937 - accuracy: 0.5187 - val_loss: 0.6918 - val_accuracy: 0.5401\n",
      "Epoch 6/10\n",
      "36/36 [==============================] - 10s 286ms/step - loss: 0.6930 - accuracy: 0.5144 - val_loss: 0.6909 - val_accuracy: 0.5401\n",
      "Epoch 7/10\n",
      "36/36 [==============================] - 10s 285ms/step - loss: 0.6932 - accuracy: 0.5205 - val_loss: 0.6909 - val_accuracy: 0.5401\n",
      "Epoch 8/10\n",
      "36/36 [==============================] - 10s 286ms/step - loss: 0.6926 - accuracy: 0.5196 - val_loss: 0.6902 - val_accuracy: 0.5401\n",
      "Epoch 9/10\n",
      "36/36 [==============================] - 10s 281ms/step - loss: 0.6933 - accuracy: 0.5196 - val_loss: 0.6911 - val_accuracy: 0.5401\n",
      "Epoch 10/10\n",
      "36/36 [==============================] - 10s 284ms/step - loss: 0.6930 - accuracy: 0.5179 - val_loss: 0.6904 - val_accuracy: 0.5401\n",
      "12/12 [==============================] - 2s 43ms/step\n",
      "Confusion Matrix:\n",
      " [[  0 189]\n",
      " [  0 170]]\n",
      "Precision: 0.4735376044568245\n",
      "Recall: 1.0\n",
      "F1 Score: 0.6427221172022685\n"
     ]
    }
   ],
   "source": [
    "\n",
    "# The data is split inot training and test sets\n",
    "\n",
    "X_train_val, X_test, y_train_val, y_test = train_test_split(padded_data, labels, test_size=0.2, shuffle=True)\n",
    "\n",
    "# The data is split into training and validation sets\n",
    "\n",
    "X_train, X_val, y_train, y_val = train_test_split(X_train_val, y_train_val, test_size=0.2, shuffle=True)\n",
    "\n",
    "# The data is converted to arrays\n",
    "\n",
    "X_train = np.array(X_train)\n",
    "X_val = np.array(X_val)\n",
    "X_test = np.array(X_test)\n",
    "y_train = np.array(y_train)\n",
    "y_val = np.array(y_val)\n",
    "y_test = np.array(y_test)\n",
    "\n",
    "# The model is compiled and fitted\n",
    "\n",
    "model.compile(optimizer='adam', loss='binary_crossentropy', metrics=['accuracy'])\n",
    "model.fit(X_train, y_train, epochs=10, batch_size=32, validation_data=(X_val, y_val))\n",
    "\n",
    "# The model is evaluated\n",
    "\n",
    "assess_model(model, X_test, y_test)\n"
   ]
  },
  {
   "cell_type": "markdown",
   "metadata": {
    "colab_type": "text",
    "id": "rniBBEiyMRKD"
   },
   "source": [
    "Examine performance of model"
   ]
  },
  {
   "attachments": {},
   "cell_type": "markdown",
   "metadata": {},
   "source": [
    "The precision is, the accuracy is 0.47 , and the F1 score is 0.64\n",
    "so the model does not perform very well."
   ]
  },
  {
   "cell_type": "markdown",
   "metadata": {
    "colab_type": "text",
    "id": "HB8kzt-IME4U"
   },
   "source": [
    "Plot graphs for accuracy and loss"
   ]
  },
  {
   "cell_type": "code",
   "execution_count": 207,
   "metadata": {
    "colab": {},
    "colab_type": "code",
    "id": "hPyJ78unMJUI"
   },
   "outputs": [
    {
     "name": "stdout",
     "output_type": "stream",
     "text": [
      "Epoch 1/10\n",
      "36/36 [==============================] - 10s 280ms/step - loss: 0.6928 - accuracy: 0.5196 - val_loss: 0.6907 - val_accuracy: 0.5401\n",
      "Epoch 2/10\n",
      "36/36 [==============================] - 10s 284ms/step - loss: 0.6928 - accuracy: 0.5196 - val_loss: 0.6909 - val_accuracy: 0.5401\n",
      "Epoch 3/10\n",
      "36/36 [==============================] - 10s 284ms/step - loss: 0.6924 - accuracy: 0.5196 - val_loss: 0.6908 - val_accuracy: 0.5401\n",
      "Epoch 4/10\n",
      "36/36 [==============================] - 10s 288ms/step - loss: 0.6930 - accuracy: 0.5196 - val_loss: 0.6910 - val_accuracy: 0.5401\n",
      "Epoch 5/10\n",
      "36/36 [==============================] - 10s 277ms/step - loss: 0.6926 - accuracy: 0.5196 - val_loss: 0.6906 - val_accuracy: 0.5401\n",
      "Epoch 6/10\n",
      "36/36 [==============================] - 10s 280ms/step - loss: 0.6926 - accuracy: 0.5196 - val_loss: 0.6905 - val_accuracy: 0.5401\n",
      "Epoch 7/10\n",
      "36/36 [==============================] - 10s 276ms/step - loss: 0.6936 - accuracy: 0.4996 - val_loss: 0.6911 - val_accuracy: 0.5401\n",
      "Epoch 8/10\n",
      "36/36 [==============================] - 10s 284ms/step - loss: 0.6928 - accuracy: 0.5196 - val_loss: 0.6908 - val_accuracy: 0.5401\n",
      "Epoch 9/10\n",
      "36/36 [==============================] - 10s 279ms/step - loss: 0.6933 - accuracy: 0.5196 - val_loss: 0.6910 - val_accuracy: 0.5401\n",
      "Epoch 10/10\n",
      "36/36 [==============================] - 10s 279ms/step - loss: 0.6925 - accuracy: 0.5196 - val_loss: 0.6912 - val_accuracy: 0.5401\n"
     ]
    },
    {
     "data": {
      "image/png": "[encoded data removed]",
      "text/plain": [
       "<Figure size 640x480 with 1 Axes>"
      ]
     },
     "metadata": {},
     "output_type": "display_data"
    },
    {
     "data": {
      "image/png": "[encoded data removed]",
      "text/plain": [
       "<Figure size 640x480 with 1 Axes>"
      ]
     },
     "metadata": {},
     "output_type": "display_data"
    }
   ],
   "source": [
    "import matplotlib.pyplot as plt\n",
    "\n",
    "history = model.fit(X_train, y_train, epochs=10, batch_size=32, validation_data=(X_val, y_val))\n",
    "\n",
    "# Training and validation accuracy and loss over epochs are recieved\n",
    "\n",
    "acc = history.history['accuracy']\n",
    "val_acc = history.history['val_accuracy']\n",
    "loss = history.history['loss']\n",
    "val_loss = history.history['val_loss']\n",
    "epochs = range(1, len(acc) + 1)\n",
    "\n",
    "# Plot training and validation accuracy\n",
    "\n",
    "plt.plot(epochs, acc, 'bo', label='Training accuracy')\n",
    "plt.plot(epochs, val_acc, 'b', label='Validation accuracy')\n",
    "plt.title('Training and validation accuracy')\n",
    "plt.xlabel('Epochs')\n",
    "plt.ylabel('Accuracy')\n",
    "plt.legend()\n",
    "\n",
    "# Show plot\n",
    "\n",
    "plt.show()\n",
    "\n",
    "# Plot training and validation loss\n",
    "\n",
    "plt.plot(epochs, loss, 'bo', label='Training loss')\n",
    "plt.plot(epochs, val_loss, 'b', label='Validation loss')\n",
    "plt.title('Training and validation loss')\n",
    "plt.xlabel('Epochs')\n",
    "plt.ylabel('Loss')\n",
    "plt.legend()\n",
    "\n",
    "# Show plot\n",
    "\n",
    "plt.show()\n"
   ]
  },
  {
   "cell_type": "markdown",
   "metadata": {
    "colab_type": "text",
    "id": "eAZ1LyFBMLoK"
   },
   "source": [
    "# Make a prediction"
   ]
  },
  {
   "cell_type": "code",
   "execution_count": 221,
   "metadata": {
    "colab": {},
    "colab_type": "code",
    "id": "vfPM5LokII5V",
    "tags": []
   },
   "outputs": [
    {
     "name": "stdout",
     "output_type": "stream",
     "text": [
      "1/1 [==============================] - 0s 35ms/step\n",
      "this book is fabulous is positive\n",
      "i hated this book is positive\n",
      "the best is positive\n",
      "no good is positive\n",
      "okay is positive\n"
     ]
    }
   ],
   "source": [
    "# A small set of data is used to test the data\n",
    "\n",
    "prediction_data = [\"this book is fabulous\",\"i hated this book\", \"the best\", \"no good\", \"okay\"]\n",
    "tokenized = tokenizer.texts_to_sequences(prediction_data)\n",
    "padded = pad_sequences(tokenized, padding='post', maxlen=max_length)\n",
    "\n",
    "# Predict with the model\n",
    "\n",
    "predictions = model.predict(padded)\n",
    "\n",
    "\n",
    "# The predicted probabilities are converted to class labels \n",
    "\n",
    "predicted_classes = np.argmax(predictions.reshape(predictions.shape[0], -1), axis=1).reshape(-1,1)\n",
    "\n",
    "\n",
    "# Map the class labels to text labels\n",
    "\n",
    "predicted_labels = to_word_label(predicted_classes)\n",
    "\n",
    "predicted_labels\n",
    "np.argmax(predictions, axis=1)\n",
    "\n",
    "# Print the results\n",
    "\n",
    "for i in range(len(prediction_data)):\n",
    "     print(prediction_data[i], \"is\", predicted_labels[i])\n"
   ]
  }
 ],
 "metadata": {
  "colab": {
   "collapsed_sections": [],
   "name": "L3T20.ipynb",
   "provenance": []
  },
  "kernelspec": {
   "display_name": "base",
   "language": "python",
   "name": "python3"
  },
  "language_info": {
   "codemirror_mode": {
    "name": "ipython",
    "version": 3
   },
   "file_extension": ".py",
   "mimetype": "text/x-python",
   "name": "python",
   "nbconvert_exporter": "python",
   "pygments_lexer": "ipython3",
   "version": "3.9.13"
  },
  "vscode": {
   "interpreter": {
    "hash": "17c14c14830f91f7354550588baf4d8e9fa108cea7434e81469e99d3843c9345"
   }
  }
 },
 "nbformat": 4,
 "nbformat_minor": 1
}
